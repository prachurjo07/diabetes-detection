{
 "cells": [
  {
   "cell_type": "code",
   "execution_count": 164,
   "id": "5efdfe70-e585-4280-8c52-178ffce82545",
   "metadata": {
    "tags": []
   },
   "outputs": [],
   "source": [
    "import torch\n",
    "import numpy as np\n",
    "import pandas as pd\n",
    "import torch.nn as nn\n",
    "import torch.optim as optim\n",
    "from sklearn.model_selection import train_test_split\n",
    "from sklearn.metrics import mean_squared_error, accuracy_score\n",
    "import matplotlib.pyplot as plt\n",
    "from sklearn.preprocessing import StandardScaler"
   ]
  },
  {
   "cell_type": "code",
   "execution_count": 165,
   "id": "37254a84-596a-43b0-af1e-8f39fc7d0d01",
   "metadata": {
    "tags": []
   },
   "outputs": [],
   "source": [
    "df = pd.read_csv(\"diabetes.csv\")"
   ]
  },
  {
   "cell_type": "code",
   "execution_count": 166,
   "id": "39afd8a1-5387-4e84-87f7-4c3eb3619063",
   "metadata": {
    "tags": []
   },
   "outputs": [],
   "source": [
    "df.fillna(df.mean(), inplace=True)"
   ]
  },
  {
   "cell_type": "code",
   "execution_count": 167,
   "id": "547ad818-2913-4bbc-94e3-9abcf62c6d9f",
   "metadata": {
    "tags": []
   },
   "outputs": [],
   "source": [
    "X = df.drop(columns='Outcome')\n",
    "y = df['Outcome']"
   ]
  },
  {
   "cell_type": "code",
   "execution_count": 168,
   "id": "89369d2c-b96d-48b3-b37c-47c14a2438a3",
   "metadata": {
    "tags": []
   },
   "outputs": [],
   "source": [
    "scaler = StandardScaler()\n",
    "X = scaler.fit_transform(X)\n"
   ]
  },
  {
   "cell_type": "code",
   "execution_count": 169,
   "id": "e0a2794a-3fbf-4676-a03a-2f02a481d4cb",
   "metadata": {
    "tags": []
   },
   "outputs": [],
   "source": [
    "xtrain, xtest, ytrain, ytest = train_test_split(X, y, test_size=0.25, random_state=1)"
   ]
  },
  {
   "cell_type": "code",
   "execution_count": 170,
   "id": "5194a78e-fb88-4822-89a7-adc4f1ff7cac",
   "metadata": {
    "tags": []
   },
   "outputs": [],
   "source": [
    "xtrain = torch.tensor(xtrain, dtype=torch.float32)\n",
    "xtest = torch.tensor(xtest, dtype=torch.float32)\n",
    "ytrain =torch.tensor(ytrain.values, dtype=torch.float32).unsqueeze(1)\n",
    "ytest = torch.tensor(ytest.values, dtype=torch.float32).unsqueeze(1)"
   ]
  },
  {
   "cell_type": "code",
   "execution_count": 171,
   "id": "2497b1de-2849-48a2-820b-161e68e431eb",
   "metadata": {
    "tags": []
   },
   "outputs": [],
   "source": [
    "class Diabetesclassifier(nn.Module):\n",
    "    def __init__(self):\n",
    "        super( Diabetesclassifier, self).__init__()\n",
    "        self.layer_1 = nn.Linear(xtrain.shape[1], 16)\n",
    "        self.layer_2 = nn.Linear(16, 8)\n",
    "        self.layer_out = nn.Linear(8,1)\n",
    "        self.relu = nn.ReLU()\n",
    "        self.sigmoid = nn.Sigmoid()\n",
    "        \n",
    "    def forward(self, inputs):\n",
    "        x = self.relu(self.layer_1(inputs))\n",
    "        x = self.relu(self.layer_2(x))\n",
    "        x = self.sigmoid(self.layer_out(x))\n",
    "        return x"
   ]
  },
  {
   "cell_type": "code",
   "execution_count": 172,
   "id": "6b0a9d86-17e7-4bf2-8053-a55b0738848a",
   "metadata": {
    "tags": []
   },
   "outputs": [],
   "source": [
    "model = Diabetesclassifier()\n",
    "criterion = nn.BCELoss()\n",
    "optimizer = optim.Adam(model.parameters(), lr=0.001)"
   ]
  },
  {
   "cell_type": "code",
   "execution_count": 173,
   "id": "9cc2afd6-7107-4fb1-9cb5-91aabc3b2d7b",
   "metadata": {
    "tags": []
   },
   "outputs": [
    {
     "name": "stdout",
     "output_type": "stream",
     "text": [
      "Epoch [10/500], Loss: 0.6533\n",
      "Epoch [20/500], Loss: 0.6440\n",
      "Epoch [30/500], Loss: 0.6350\n",
      "Epoch [40/500], Loss: 0.6259\n",
      "Epoch [50/500], Loss: 0.6161\n",
      "Epoch [60/500], Loss: 0.6054\n",
      "Epoch [70/500], Loss: 0.5937\n",
      "Epoch [80/500], Loss: 0.5810\n",
      "Epoch [90/500], Loss: 0.5673\n",
      "Epoch [100/500], Loss: 0.5528\n",
      "Epoch [110/500], Loss: 0.5385\n",
      "Epoch [120/500], Loss: 0.5245\n",
      "Epoch [130/500], Loss: 0.5113\n",
      "Epoch [140/500], Loss: 0.4996\n",
      "Epoch [150/500], Loss: 0.4892\n",
      "Epoch [160/500], Loss: 0.4803\n",
      "Epoch [170/500], Loss: 0.4726\n",
      "Epoch [180/500], Loss: 0.4663\n",
      "Epoch [190/500], Loss: 0.4611\n",
      "Epoch [200/500], Loss: 0.4569\n",
      "Epoch [210/500], Loss: 0.4534\n",
      "Epoch [220/500], Loss: 0.4503\n",
      "Epoch [230/500], Loss: 0.4476\n",
      "Epoch [240/500], Loss: 0.4451\n",
      "Epoch [250/500], Loss: 0.4430\n",
      "Epoch [260/500], Loss: 0.4411\n",
      "Epoch [270/500], Loss: 0.4392\n",
      "Epoch [280/500], Loss: 0.4374\n",
      "Epoch [290/500], Loss: 0.4357\n",
      "Epoch [300/500], Loss: 0.4339\n",
      "Epoch [310/500], Loss: 0.4323\n",
      "Epoch [320/500], Loss: 0.4308\n",
      "Epoch [330/500], Loss: 0.4292\n",
      "Epoch [340/500], Loss: 0.4276\n",
      "Epoch [350/500], Loss: 0.4260\n",
      "Epoch [360/500], Loss: 0.4243\n",
      "Epoch [370/500], Loss: 0.4227\n",
      "Epoch [380/500], Loss: 0.4211\n",
      "Epoch [390/500], Loss: 0.4193\n",
      "Epoch [400/500], Loss: 0.4175\n",
      "Epoch [410/500], Loss: 0.4157\n",
      "Epoch [420/500], Loss: 0.4139\n",
      "Epoch [430/500], Loss: 0.4121\n",
      "Epoch [440/500], Loss: 0.4104\n",
      "Epoch [450/500], Loss: 0.4087\n",
      "Epoch [460/500], Loss: 0.4070\n",
      "Epoch [470/500], Loss: 0.4054\n",
      "Epoch [480/500], Loss: 0.4038\n",
      "Epoch [490/500], Loss: 0.4023\n",
      "Epoch [500/500], Loss: 0.4007\n"
     ]
    }
   ],
   "source": [
    "\n",
    "epochs = 500\n",
    "for epoch in range(epochs):\n",
    "    model.train()\n",
    "    optimizer.zero_grad()\n",
    "    outputs = model(xtrain)\n",
    "    loss = criterion(outputs, ytrain)\n",
    "    loss.backward()\n",
    "    optimizer.step()\n",
    "    if (epoch+1) % 10 == 0:\n",
    "        print(f'Epoch [{epoch+1}/{epochs}], Loss: {loss.item():.4f}')\n",
    "        \n",
    "              "
   ]
  },
  {
   "cell_type": "code",
   "execution_count": 174,
   "id": "3ff126d8-7e67-488c-8007-99989c2c2b80",
   "metadata": {
    "tags": []
   },
   "outputs": [
    {
     "name": "stdout",
     "output_type": "stream",
     "text": [
      "Accuracy: 0.8281\n",
      "Mean Squared Error: 0.1265\n"
     ]
    }
   ],
   "source": [
    "model.eval()\n",
    "with torch.no_grad():\n",
    "    ypred_train = model(xtrain)\n",
    "    ypred_test = model(xtest)\n",
    "    \n",
    "    ypred_train_cls = (ypred_train >= 0.5).float()\n",
    "    ypred_test_cls = (ypred_test >= 0.5).float()\n",
    "\n",
    "    # Ensure that ytest and ypred_test_cls have the same shape\n",
    "    #print(f'ytest shape: {ytest.shape}')\n",
    "    #print(f'ypred_test_cls shape: {ypred_test_cls.shape}')\n",
    "\n",
    "    accuracy = accuracy_score(ytest, ypred_test_cls)\n",
    "    mse = mean_squared_error(ytest, ypred_test)\n",
    "\n",
    "    print(f'Accuracy: {accuracy:.4f}')\n",
    "    print(f'Mean Squared Error: {mse:.4f}')"
   ]
  },
  {
   "cell_type": "code",
   "execution_count": null,
   "id": "7acd43a4-71f1-4d3b-bee2-2e7d965b5c94",
   "metadata": {},
   "outputs": [],
   "source": []
  },
  {
   "cell_type": "code",
   "execution_count": null,
   "id": "56ba461f-9cd0-48ce-a942-5d547cdcfde9",
   "metadata": {},
   "outputs": [],
   "source": []
  }
 ],
 "metadata": {
  "kernelspec": {
   "display_name": "Python 3 (ipykernel)",
   "language": "python",
   "name": "python3"
  },
  "language_info": {
   "codemirror_mode": {
    "name": "ipython",
    "version": 3
   },
   "file_extension": ".py",
   "mimetype": "text/x-python",
   "name": "python",
   "nbconvert_exporter": "python",
   "pygments_lexer": "ipython3",
   "version": "3.11.5"
  }
 },
 "nbformat": 4,
 "nbformat_minor": 5
}
